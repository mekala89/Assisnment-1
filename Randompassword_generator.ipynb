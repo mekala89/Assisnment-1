{
  "nbformat": 4,
  "nbformat_minor": 0,
  "metadata": {
    "colab": {
      "name": "Randompassword generator.ipynb",
      "provenance": [],
      "authorship_tag": "ABX9TyN1is3IFQBlUBJCSKbaOppR",
      "include_colab_link": true
    },
    "kernelspec": {
      "name": "python3",
      "display_name": "Python 3"
    }
  },
  "cells": [
    {
      "cell_type": "markdown",
      "metadata": {
        "id": "view-in-github",
        "colab_type": "text"
      },
      "source": [
        "<a href=\"https://colab.research.google.com/github/mekala89/Assisnment-1/blob/master/Randompassword_generator.ipynb\" target=\"_parent\"><img src=\"https://colab.research.google.com/assets/colab-badge.svg\" alt=\"Open In Colab\"/></a>"
      ]
    },
    {
      "cell_type": "code",
      "metadata": {
        "id": "_HMjktRsPRt5",
        "colab_type": "code",
        "colab": {
          "base_uri": "https://localhost:8080/",
          "height": 68
        },
        "outputId": "5cbdcd3f-54b9-4bf1-d425-f0a72995c79f"
      },
      "source": [
        "### Problem:It is required to develop a random password generator for KVB net banking purpose using Python script. Therandom password should contain minimum of 8 character\n",
        "###with one small alphabetic letter, one alphabetic capital letter, one special character, one number.###\n",
        "\n",
        "import random\n",
        "print(\"Welcome to KVB Password Generator\")\n",
        "pwdpossiblechar='abcdefghijklmnopqrstuvwxyzABCDEFGHIJKLMNOPQRSTUVWXYZ !#$%&@()*+,-./:;<=>?[\\]^_`{|}~*0123456789' \n",
        "length=int(input(\"Enter the possible length of password: \"))\n",
        "KVB_password=''\n",
        "for len in range(length):\n",
        "    KVB_password+=random.choice(pwdpossiblechar)#function returns a random element from the non-empty sequence. \n",
        "print(KVB_password)"
      ],
      "execution_count": 4,
      "outputs": [
        {
          "output_type": "stream",
          "text": [
            "Welcome to KVB Password Generator\n",
            "Enter the possible length of password: 8\n",
            "5F:2?dAn\n"
          ],
          "name": "stdout"
        }
      ]
    }
  ]
}